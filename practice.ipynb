{
  "nbformat": 4,
  "nbformat_minor": 0,
  "metadata": {
    "colab": {
      "provenance": [],
      "toc_visible": true,
      "authorship_tag": "ABX9TyPA9eDsHm/ZqV03R2mXO/ja",
      "include_colab_link": true
    },
    "kernelspec": {
      "name": "python3",
      "display_name": "Python 3"
    },
    "language_info": {
      "name": "python"
    }
  },
  "cells": [
    {
      "cell_type": "markdown",
      "metadata": {
        "id": "view-in-github",
        "colab_type": "text"
      },
      "source": [
        "<a href=\"https://colab.research.google.com/github/aakarsh-roy/User-Management/blob/main/practice.ipynb\" target=\"_parent\"><img src=\"https://colab.research.google.com/assets/colab-badge.svg\" alt=\"Open In Colab\"/></a>"
      ]
    },
    {
      "cell_type": "code",
      "execution_count": null,
      "metadata": {
        "colab": {
          "base_uri": "https://localhost:8080/"
        },
        "id": "cuf65ooB0Eln",
        "outputId": "cae398a2-c209-4539-976e-5dc992cef8b1"
      },
      "outputs": [
        {
          "output_type": "stream",
          "name": "stdout",
          "text": [
            "he\n"
          ]
        }
      ],
      "source": [
        "print(\"he\")"
      ]
    },
    {
      "cell_type": "code",
      "source": [
        "name = input(\"enter your name: \");\n",
        "print(name)"
      ],
      "metadata": {
        "colab": {
          "base_uri": "https://localhost:8080/"
        },
        "id": "AI2Z7b070LTD",
        "outputId": "419ceb03-8720-4b04-e964-d9f4f7816ecd"
      },
      "execution_count": null,
      "outputs": [
        {
          "output_type": "stream",
          "name": "stdout",
          "text": [
            "enter your name: aakarsh\n",
            "aakarsh\n"
          ]
        }
      ]
    },
    {
      "cell_type": "code",
      "source": [],
      "metadata": {
        "id": "DQ-EmNGiL2_W"
      },
      "execution_count": null,
      "outputs": []
    },
    {
      "cell_type": "code",
      "source": [
        "eqn = eval(input(\"enter eqn: \"));\n",
        "print(eqn)"
      ],
      "metadata": {
        "colab": {
          "base_uri": "https://localhost:8080/"
        },
        "id": "J5T8jccy72pM",
        "outputId": "5b83fb1c-406d-46d0-8ba3-4c0cda0bbef4"
      },
      "execution_count": null,
      "outputs": [
        {
          "output_type": "stream",
          "name": "stdout",
          "text": [
            "enter eqn: 2+10\n",
            "12\n"
          ]
        }
      ]
    },
    {
      "cell_type": "code",
      "source": [
        "a=10\n",
        "b=11\n",
        "c=a\n",
        "a=b\n",
        "b=c\n",
        "print(\"value of a\",a)\n",
        "print(\"value of b\",b)"
      ],
      "metadata": {
        "colab": {
          "base_uri": "https://localhost:8080/"
        },
        "id": "w5XCIt0B8o0u",
        "outputId": "a0cb0fa1-0b8a-4322-d88f-411018cb3ee6"
      },
      "execution_count": null,
      "outputs": [
        {
          "output_type": "stream",
          "name": "stdout",
          "text": [
            "value of a 11\n",
            "value of b 10\n"
          ]
        }
      ]
    },
    {
      "cell_type": "code",
      "source": [
        "a=12.5\n",
        "print(type(a))\n",
        "a=int(a)\n",
        "print(type(a))\n",
        "print(\"a =\",a)"
      ],
      "metadata": {
        "colab": {
          "base_uri": "https://localhost:8080/"
        },
        "id": "Zs79wK_7_91u",
        "outputId": "c6b5db29-f257-4a26-c75e-a4b15a7e16cf"
      },
      "execution_count": null,
      "outputs": [
        {
          "output_type": "stream",
          "name": "stdout",
          "text": [
            "<class 'float'>\n",
            "<class 'int'>\n",
            "a = 12\n"
          ]
        }
      ]
    },
    {
      "cell_type": "code",
      "source": [
        "Name=input(\"Enter your name:\")\n",
        "Class=input(\"Enter your class:\")\n",
        "print(\"Id Details\")\n",
        "print(\"Name: \",Name)\n",
        "print(\"Class: \",Class)"
      ],
      "metadata": {
        "colab": {
          "base_uri": "https://localhost:8080/"
        },
        "id": "wUrRVuFcCPpe",
        "outputId": "a73e2c66-fd16-4add-8a8c-ce14675998c3"
      },
      "execution_count": null,
      "outputs": [
        {
          "output_type": "stream",
          "name": "stdout",
          "text": [
            "Enter your name:Aakarsh\n",
            "Enter your class:12\n",
            "Id Details\n",
            "Name:  Aakarsh\n",
            "Class:  12\n"
          ]
        }
      ]
    },
    {
      "cell_type": "code",
      "source": [
        "a=12\n",
        "print(type(a))\n",
        "a=float(a)\n",
        "print(type(a))"
      ],
      "metadata": {
        "colab": {
          "base_uri": "https://localhost:8080/"
        },
        "id": "HQmtd4p1DR0p",
        "outputId": "ad603ef6-bfef-41d1-b0f8-1cac400039a2"
      },
      "execution_count": null,
      "outputs": [
        {
          "output_type": "stream",
          "name": "stdout",
          "text": [
            "<class 'int'>\n",
            "<class 'float'>\n"
          ]
        }
      ]
    },
    {
      "cell_type": "code",
      "source": [
        "a=10\n",
        "b=8\n",
        "print(a & b)"
      ],
      "metadata": {
        "colab": {
          "base_uri": "https://localhost:8080/"
        },
        "id": "aphR8GeKL44z",
        "outputId": "6e4cbafa-d4d2-4537-d366-1ef9ff23eede"
      },
      "execution_count": null,
      "outputs": [
        {
          "output_type": "stream",
          "name": "stdout",
          "text": [
            "8\n"
          ]
        }
      ]
    },
    {
      "cell_type": "code",
      "source": [
        "a =  int(input(\"enter\"))\n",
        "\n",
        "if a > 10:\n",
        "  print(\"HELLO\")\n",
        "\n",
        "print(\"WOW\")\n",
        "\n",
        "\n"
      ],
      "metadata": {
        "colab": {
          "base_uri": "https://localhost:8080/"
        },
        "id": "gBYmqnX_MZ_H",
        "outputId": "aeb7e072-88b4-4977-858b-40735cfae2e5"
      },
      "execution_count": null,
      "outputs": [
        {
          "output_type": "stream",
          "name": "stdout",
          "text": [
            "enter5\n",
            "WOW\n"
          ]
        }
      ]
    },
    {
      "cell_type": "code",
      "source": [
        "import numpy as np\n",
        "s = np.array([1, 2, 3, 4, 5, 6])\n",
        "d = np.array([5])\n",
        "print(s * d)"
      ],
      "metadata": {
        "colab": {
          "base_uri": "https://localhost:8080/"
        },
        "id": "XVibWat1153N",
        "outputId": "88949515-0a82-4050-8c03-ae2934ec2403"
      },
      "execution_count": null,
      "outputs": [
        {
          "output_type": "stream",
          "name": "stdout",
          "text": [
            "[ 5 10 15 20 25 30]\n"
          ]
        }
      ]
    },
    {
      "cell_type": "code",
      "source": [
        "arr= np.array([[1, 2, 3, 4, 5, 6],[1, 2, 3, 4, 5, 6]])\n",
        "print (arr[0:2, 0:4])\n"
      ],
      "metadata": {
        "colab": {
          "base_uri": "https://localhost:8080/"
        },
        "id": "kcLJ_njxEuHx",
        "outputId": "90f5165b-936a-40d7-cadc-f901d02e1e36"
      },
      "execution_count": null,
      "outputs": [
        {
          "output_type": "stream",
          "name": "stdout",
          "text": [
            "[[1 2 3 4]\n",
            " [1 2 3 4]]\n"
          ]
        }
      ]
    },
    {
      "cell_type": "code",
      "source": [
        "arr= np.array([[1, 2, 3, 4, 5, 6],[7, 8, 9, 10, 15, 16]])\n",
        "print (arr[0, 1:4])\n",
        "print (arr[1, 0:4])"
      ],
      "metadata": {
        "colab": {
          "base_uri": "https://localhost:8080/"
        },
        "id": "cDSantuVHTlA",
        "outputId": "fa9cb8b2-9ac7-4b8e-dea6-67845cc7bd5b"
      },
      "execution_count": null,
      "outputs": [
        {
          "output_type": "stream",
          "name": "stdout",
          "text": [
            "[2 3 4]\n",
            "[ 7  8  9 10]\n"
          ]
        }
      ]
    },
    {
      "cell_type": "code",
      "source": [
        "arr= np.array([[1, 2, 3, 4, 5, 6],[7, 8, 9, 10, 15, 16]])\n",
        "print(np.shape(arr))"
      ],
      "metadata": {
        "colab": {
          "base_uri": "https://localhost:8080/"
        },
        "id": "MpBLs7G2IIRo",
        "outputId": "eb59af87-d096-42ee-ff90-0e366b75e3a9"
      },
      "execution_count": null,
      "outputs": [
        {
          "output_type": "stream",
          "name": "stdout",
          "text": [
            "(2, 6)\n"
          ]
        }
      ]
    }
  ]
}